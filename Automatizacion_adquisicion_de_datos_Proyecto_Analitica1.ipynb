{
  "nbformat": 4,
  "nbformat_minor": 0,
  "metadata": {
    "colab": {
      "provenance": [],
      "authorship_tag": "ABX9TyNzliuN/LVQIzjrlg4g/Gr/",
      "include_colab_link": true
    },
    "kernelspec": {
      "name": "python3",
      "display_name": "Python 3"
    },
    "language_info": {
      "name": "python"
    }
  },
  "cells": [
    {
      "cell_type": "markdown",
      "metadata": {
        "id": "view-in-github",
        "colab_type": "text"
      },
      "source": [
        "<a href=\"https://colab.research.google.com/github/pipeberrio/Analitica/blob/main/Automatizacion_adquisicion_de_datos_Proyecto_Analitica1.ipynb\" target=\"_parent\"><img src=\"https://colab.research.google.com/assets/colab-badge.svg\" alt=\"Open In Colab\"/></a>"
      ]
    },
    {
      "cell_type": "code",
      "execution_count": 4,
      "metadata": {
        "colab": {
          "base_uri": "https://localhost:8080/"
        },
        "id": "2bTp35zPe_T6",
        "outputId": "c271bece-faaf-4cfb-bf7e-b18347b3f6dd"
      },
      "outputs": [
        {
          "output_type": "stream",
          "name": "stdout",
          "text": [
            "Enlace encontrado: https://www.dane.gov.co/files/operaciones/ETUP/anex-ETUP-IItrim2024.xlsx\n",
            "Archivo descargado: anexos_dane.xlsx\n",
            "URL del archivo CSV: https://www.dane.gov.co/descarga-datos-transporte.csv\n",
            "Archivo descargado: datos_transporte.csv\n"
          ]
        }
      ],
      "source": [
       import requests
from bs4 import BeautifulSoup

# Función para descargar un archivo desde una URL
def descargar_archivo(url, nombre_archivo):
    respuesta = requests.get(url)
    with open(nombre_archivo, 'wb') as archivo:
        archivo.write(respuesta.content)
    print(f"Archivo descargado: {nombre_archivo}")

# URL de la primera página del DANE
url_excel = 'https://www.dane.gov.co/index.php/estadisticas-por-tema/transporte/encuesta-de-transporte-urbano-etup'

# Hacer una solicitud HTTP a la primera página
respuesta = requests.get(url_excel)
soup = BeautifulSoup(respuesta.text, 'html.parser')

# Buscar todos los enlaces a archivos Excel en la página
enlaces = soup.find_all('a', href=True)

# Filtrar el enlace que contiene "ANEXOS"
enlace_anexos = None
for enlace in enlaces:
    if 'ANEXOS' in enlace.text.upper() and (enlace['href'].endswith('.xls') or enlace['href'].endswith('.xlsx')):
        enlace_anexos = enlace['href']
        break

if enlace_anexos:
    # Si el enlace es relativo, añadir la URL base
    if not enlace_anexos.startswith('http'):
        enlace_anexos = 'https://www.dane.gov.co' + enlace_anexos

    print(f"Enlace encontrado: {enlace_anexos}")
    # Descargar el archivo Excel
    descargar_archivo(enlace_anexos, 'anexos_dane.xlsx')
else:
    print('No se encontró un archivo con el nombre "ANEXOS" en la página.')

# URL del archivo CSV
url_csv = 'https://www.dane.gov.co/descarga-datos-transporte.csv'

print(f"URL del archivo CSV: {url_csv}")
# Descargar el archivo CSV
descargar_archivo(url_csv, 'datos_transporte.csv')
      ]
    }
  ]
}
