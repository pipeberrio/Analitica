{
  "nbformat": 4,
  "nbformat_minor": 0,
  "metadata": {
    "colab": {
      "provenance": [],
      "authorship_tag": "ABX9TyNzliuN/LVQIzjrlg4g/Gr/",
      "include_colab_link": true
    },
    "kernelspec": {
      "name": "python3",
      "display_name": "Python 3"
    },
    "language_info": {
      "name": "python"
    }
  },
  "cells": [
    {
      "cell_type": "markdown",
      "metadata": {
        "id": "view-in-github",
        "colab_type": "text"
      },
      "source": [
        "<a href=\"https://colab.research.google.com/github/pipeberrio/Analitica/blob/main/Automatizacion_adquisicion_de_datos_Proyecto_Analitica1.ipynb\" target=\"_parent\"><img src=\"https://colab.research.google.com/assets/colab-badge.svg\" alt=\"Open In Colab\"/></a>"
      ]
    },
    {
      "cell_type": "code",
      "execution_count": 4,
      "metadata": {
        "colab": {
          "base_uri": "https://localhost:8080/"
        },
        "id": "2bTp35zPe_T6",
        "outputId": "c271bece-faaf-4cfb-bf7e-b18347b3f6dd"
      },
      "outputs": [
        {
          "output_type": "stream",
          "name": "stdout",
          "text": [
            "Enlace encontrado: https://www.dane.gov.co/files/operaciones/ETUP/anex-ETUP-IItrim2024.xlsx\n",
            "Archivo descargado: anexos_dane.xlsx\n",
            "URL del archivo CSV: https://www.dane.gov.co/descarga-datos-transporte.csv\n",
            "Archivo descargado: datos_transporte.csv\n"
          ]
        }
      ],
      "source": [
        "import requests\n",
        "from bs4 import BeautifulSoup\n",
        "\n",
        "# Función para descargar un archivo desde una URL\n",
        "def descargar_archivo(url, nombre_archivo):\n",
        "    respuesta = requests.get(url)\n",
        "    with open(nombre_archivo, 'wb') as archivo:\n",
        "        archivo.write(respuesta.content)\n",
        "    print(f\"Archivo descargado: {nombre_archivo}\")\n",
        "\n",
        "# URL de la primera página del DANE\n",
        "url_excel = 'https://www.dane.gov.co/index.php/estadisticas-por-tema/transporte/encuesta-de-transporte-urbano-etup'\n",
        "\n",
        "# Hacer una solicitud HTTP a la primera página\n",
        "respuesta = requests.get(url_excel)\n",
        "soup = BeautifulSoup(respuesta.text, 'html.parser')\n",
        "\n",
        "# Buscar todos los enlaces a archivos Excel en la página\n",
        "enlaces = soup.find_all('a', href=True)\n",
        "\n",
        "# Filtrar el enlace que contiene \"ANEXOS\"\n",
        "enlace_anexos = None\n",
        "for enlace in enlaces:\n",
        "    if 'ANEXOS' in enlace.text.upper() and (enlace['href'].endswith('.xls') or enlace['href'].endswith('.xlsx')):\n",
        "        enlace_anexos = enlace['href']\n",
        "        break\n",
        "\n",
        "if enlace_anexos:\n",
        "    # Si el enlace es relativo, añadir la URL base\n",
        "    if not enlace_anexos.startswith('http'):\n",
        "        enlace_anexos = 'https://www.dane.gov.co' + enlace_anexos\n",
        "\n",
        "    print(f\"Enlace encontrado: {enlace_anexos}\")\n",
        "    # Descargar el archivo Excel\n",
        "    descargar_archivo(enlace_anexos, 'anexos_dane.xlsx')\n",
        "else:\n",
        "    print('No se encontró un archivo con el nombre \"ANEXOS\" en la página.')\n",
        "\n",
        "# URL del archivo CSV\n",
        "url_csv = 'https://www.dane.gov.co/descarga-datos-transporte.csv'\n",
        "\n",
        "print(f\"URL del archivo CSV: {url_csv}\")\n",
        "# Descargar el archivo CSV\n",
        "descargar_archivo(url_csv, 'datos_transporte.csv')\n"
      ]
    }
  ]
}