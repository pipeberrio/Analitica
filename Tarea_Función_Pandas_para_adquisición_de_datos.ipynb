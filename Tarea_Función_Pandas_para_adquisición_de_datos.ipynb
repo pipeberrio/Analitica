{
  "nbformat": 4,
  "nbformat_minor": 0,
  "metadata": {
    "colab": {
      "provenance": [],
      "authorship_tag": "ABX9TyNKEV7rAwYpNwyAjAEO9zvn",
      "include_colab_link": true
    },
    "kernelspec": {
      "name": "python3",
      "display_name": "Python 3"
    },
    "language_info": {
      "name": "python"
    }
  },
  "cells": [
    {
      "cell_type": "markdown",
      "metadata": {
        "id": "view-in-github",
        "colab_type": "text"
      },
      "source": [
        "<a href=\"https://colab.research.google.com/github/pipeberrio/Analitica/blob/main/Tarea_Funci%C3%B3n_Pandas_para_adquisici%C3%B3n_de_datos.ipynb\" target=\"_parent\"><img src=\"https://colab.research.google.com/assets/colab-badge.svg\" alt=\"Open In Colab\"/></a>"
      ]
    },
    {
      "cell_type": "markdown",
      "source": [
        "TAREA FUNCION PARA ADQUISICION DE DATOS EN PANDAS\n",
        "**RAUL FELIPE BERRIO GOMEZ CC1035416370**"
      ],
      "metadata": {
        "id": "xw5xvr_EQJQs"
      }
    },
    {
      "cell_type": "markdown",
      "source": [
        "¿Qué es un JSON?\n",
        "\n",
        "El formato JSON (JavaScript Object Notation) es un formato ligero de intercambio de datos. En este caso, la API devuelve los datos en JSON, que se parecen a algo como esto:"
      ],
      "metadata": {
        "id": "UmurJ6MkPLV0"
      }
    },
    {
      "cell_type": "code",
      "source": [
        "{\n",
        "   \"time\": {\n",
        "      \"updated\": \"Sep 17, 2024 00:03:00 UTC\",\n",
        "      \"updatedISO\": \"2024-09-17T00:03:00+00:00\",\n",
        "      \"updateduk\": \"Sep 17, 2024 at 01:03 BST\"\n",
        "   },\n",
        "   \"bpi\": {\n",
        "      \"USD\": {\n",
        "         \"code\": \"USD\",\n",
        "         \"rate\": \"58,093.1043\",\n",
        "         \"description\": \"United States Dollar\",\n",
        "         \"rate_float\": 58093.1043\n",
        "      },\n",
        "      \"GBP\": {\n",
        "         \"code\": \"GBP\",\n",
        "         \"rate\": \"42,063.1598\",\n",
        "         \"description\": \"British Pound Sterling\",\n",
        "         \"rate_float\": 42063.1598\n",
        "      }\n",
        "   }\n",
        "}\n"
      ],
      "metadata": {
        "colab": {
          "base_uri": "https://localhost:8080/"
        },
        "id": "OwgcGvFKPQDU",
        "outputId": "6d55c569-a68a-45a6-c5e0-2b800c4c08f9"
      },
      "execution_count": 4,
      "outputs": [
        {
          "output_type": "execute_result",
          "data": {
            "text/plain": [
              "{'time': {'updated': 'Sep 17, 2024 00:03:00 UTC',\n",
              "  'updatedISO': '2024-09-17T00:03:00+00:00',\n",
              "  'updateduk': 'Sep 17, 2024 at 01:03 BST'},\n",
              " 'bpi': {'USD': {'code': 'USD',\n",
              "   'rate': '58,093.1043',\n",
              "   'description': 'United States Dollar',\n",
              "   'rate_float': 58093.1043},\n",
              "  'GBP': {'code': 'GBP',\n",
              "   'rate': '42,063.1598',\n",
              "   'description': 'British Pound Sterling',\n",
              "   'rate_float': 42063.1598}}}"
            ]
          },
          "metadata": {},
          "execution_count": 4
        }
      ]
    },
    {
      "cell_type": "markdown",
      "source": [
        "Pandas convierte esta estructura de datos en un DataFrame, lo que te permite manipular y analizar los datos con facilidad.\n",
        "\n",
        "Ejemplo de la salida (tras ejecutar print(df.head())):"
      ],
      "metadata": {
        "id": "Z9fsV0bBPxtL"
      }
    },
    {
      "cell_type": "code",
      "source": [
        "                        time        disclaimer chartName  \\\n",
        "updated     Sep 17, 2024 00:03  [CoinDesk Disclaimer]  Bitcoin\n",
        "updatedISO  2024-09-17T00:03:00+00:00  [CoinDesk Disclaimer]  Bitcoin\n",
        "updateduk   Sep 17, 2024 at 01:03  [CoinDesk Disclaimer]  Bitcoin\n",
        "USD         {'code': 'USD', 'rate': '58093.1043', ...         NaN\n",
        "GBP         {'code': 'GBP', 'rate': '42063.1598', ...         NaN\n",
        "\n",
        "                                                     bpi\n",
        "updated                                              NaN\n",
        "updatedISO                                           NaN\n",
        "updateduk                                            NaN\n",
        "USD         {'code': 'USD', 'rate': '58093.1043', ...\n",
        "GBP         {'code': 'GBP', 'rate': '42063.1598', ...\n"
      ],
      "metadata": {
        "id": "qMWQi0hqP2ia"
      },
      "execution_count": null,
      "outputs": []
    },
    {
      "cell_type": "markdown",
      "source": [
        "**EJEMPLO**"
      ],
      "metadata": {
        "id": "balguFJAP5j5"
      }
    },
    {
      "cell_type": "code",
      "execution_count": 3,
      "metadata": {
        "id": "jY0AjddD28lV",
        "outputId": "1deb02e2-e3d7-45ab-9f4b-8f1797cbbe05",
        "colab": {
          "base_uri": "https://localhost:8080/"
        }
      },
      "outputs": [
        {
          "output_type": "stream",
          "name": "stdout",
          "text": [
            "                                 time  \\\n",
            "updated     Sep 16, 2024 23:46:36 UTC   \n",
            "updatedISO  2024-09-16T23:46:36+00:00   \n",
            "updateduk   Sep 17, 2024 at 00:46 BST   \n",
            "USD                               NaN   \n",
            "GBP                               NaN   \n",
            "\n",
            "                                                   disclaimer chartName  \\\n",
            "updated     This data was produced from the CoinDesk Bitco...   Bitcoin   \n",
            "updatedISO  This data was produced from the CoinDesk Bitco...   Bitcoin   \n",
            "updateduk   This data was produced from the CoinDesk Bitco...   Bitcoin   \n",
            "USD         This data was produced from the CoinDesk Bitco...   Bitcoin   \n",
            "GBP         This data was produced from the CoinDesk Bitco...   Bitcoin   \n",
            "\n",
            "                                                          bpi  \n",
            "updated                                                   NaN  \n",
            "updatedISO                                                NaN  \n",
            "updateduk                                                 NaN  \n",
            "USD         {'code': 'USD', 'symbol': '&#36;', 'rate': '58...  \n",
            "GBP         {'code': 'GBP', 'symbol': '&pound;', 'rate': '...  \n"
          ]
        }
      ],
      "source": [
        "import pandas as pd\n",
        "\n",
        "# Usar la API de CoinDesk (Bitcoin price index) como ejemplo\n",
        "url = 'https://api.coindesk.com/v1/bpi/currentprice.json'\n",
        "\n",
        "# Leer los datos desde la URL usando read_json\n",
        "df = pd.read_json(url)\n",
        "\n",
        "# Mostrar las primeras filas del DataFrame\n",
        "print(df.head())\n"
      ]
    },
    {
      "cell_type": "markdown",
      "source": [
        "El resultado que estás viendo es un DataFrame creado a partir del archivo JSON devuelto por la API de CoinDesk.\n",
        "\n",
        "**Las primeras tres filas (updated, updatedISO, updateduk)**  indican cuándo fue actualizado el precio en diferentes formatos de tiempo.\n",
        "**Las filas USD y GBP** contienen el precio del Bitcoin en dólares y libras respectivamente, con información adicional como el código de moneda y la descripción.\n",
        "**NaN** aparece en las celdas que no tienen información relevante para esa fila.\n",
        "."
      ],
      "metadata": {
        "id": "Et2LoEZ8R7Pu"
      }
    }
  ]
}
