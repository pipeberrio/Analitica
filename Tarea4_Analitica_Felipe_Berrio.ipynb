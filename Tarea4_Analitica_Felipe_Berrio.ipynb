{
  "nbformat": 4,
  "nbformat_minor": 0,
  "metadata": {
    "colab": {
      "private_outputs": true,
      "provenance": [],
      "include_colab_link": true
    },
    "kernelspec": {
      "name": "python3",
      "display_name": "Python 3"
    },
    "language_info": {
      "name": "python"
    }
  },
  "cells": [
    {
      "cell_type": "markdown",
      "metadata": {
        "id": "view-in-github",
        "colab_type": "text"
      },
      "source": [
        "<a href=\"https://colab.research.google.com/github/pipeberrio/Analitica/blob/main/Tarea4_Analitica_Felipe_Berrio.ipynb\" target=\"_parent\"><img src=\"https://colab.research.google.com/assets/colab-badge.svg\" alt=\"Open In Colab\"/></a>"
      ]
    },
    {
      "cell_type": "markdown",
      "source": [
        "<p><img alt=\"banner\" height=\"252px\" width=\"1080px\" src=\"https://docs.google.com/uc?export=download&id=1SqbMIjMfsMlSukiTyfMJ0VMuDlP2hGhx\"  align=\"center\" hspace=\"10px\" vspace=\"0px\" ></p>"
      ],
      "metadata": {
        "id": "ix-VqRWgbucB"
      }
    },
    {
      "cell_type": "markdown",
      "source": [
        "# <font color='056938'> **Descripción del problema** </font>\n",
        "\n",
        "La Autoridad Nacional de Licencias Ambientales ha consolidado y preprocesado la siguiente base de datos respecto a los trabsformadores de material reciclado en Colombia.\n",
        "\n",
        "\n",
        "\n",
        "\n",
        "\n",
        "\n",
        "\n",
        "\n"
      ],
      "metadata": {
        "id": "__NNq0FKbwMw"
      }
    },
    {
      "cell_type": "code",
      "source": [
        "import pandas as pd\n",
        "import numpy as np\n",
        "import plotly.graph_objects as go\n",
        "\n",
        "\n",
        "!gdown 1oP0ygviQAsthXGlzTJnknd72F6mHPhUV\n",
        "df = pd.read_csv('datos_transformadores.csv')\n",
        "df.head()\n"
      ],
      "metadata": {
        "id": "7vQl70ZBIXDI"
      },
      "execution_count": null,
      "outputs": []
    },
    {
      "cell_type": "markdown",
      "source": [
        "La siguiente función permite visulizar para los distintos transformadores clasificados por material y según la capacidad de transformación `[alta, media o baja]`\n",
        "\n",
        "\n",
        "\n"
      ],
      "metadata": {
        "id": "FyykAAi4IhDO"
      }
    },
    {
      "cell_type": "code",
      "source": [
        "\n",
        "# Calculate quartiles (Q1, Q2, and Q3)\n",
        "q1 = np.round(df['capacidad'].quantile(0.25), 1)  # First quartile (25th percentile)\n",
        "q2 = np.round(df['capacidad'].quantile(0.50), 1)  # Median (50th percentile)\n",
        "q3 = np.round(df['capacidad'].quantile(0.75), 1)  # Third quartile (75th percentile)\n",
        "\n",
        "\n",
        "\n",
        "import plotly.graph_objs as go\n",
        "\n",
        "def create_map(capacity):\n",
        "    \"\"\"\n",
        "    Creates a map visualization based on the specified capacity filter.\n",
        "\n",
        "    Parameters:\n",
        "    -----------\n",
        "    capacity : str\n",
        "        The filter for capacity levels to include in the map:\n",
        "        - 'todos' : Include all data points.\n",
        "        - 'alta' : Include data points with capacity greater than or equal to the third quartile (q3).\n",
        "        - 'media' : Include data points with capacity between the first (q1) and third quartiles (q3).\n",
        "        - 'baja' : Include data points with capacity less than the first quartile (q1).\n",
        "\n",
        "    Returns:\n",
        "    --------\n",
        "    map : plotly.graph_objs._figure.Figure\n",
        "        A Plotly Scattermapbox figure displaying the selected data points with markers.\n",
        "    \"\"\"\n",
        "\n",
        "    # Filter data based on capacity level\n",
        "    if capacity == 'todos':\n",
        "        data = df\n",
        "    elif capacity == \"alta\":\n",
        "        data = df[df['capacidad'] >= q3]\n",
        "    elif capacity == \"media\":\n",
        "        data = df[(df['capacidad'] < q3) & (df['capacidad'] >= q1)]\n",
        "    elif capacity == \"baja\":\n",
        "        data = df[df['capacidad'] < q1]\n",
        "\n",
        "    data.reset_index(inplace=True)\n",
        "\n",
        "    # Define list of materials\n",
        "    materials = ['cartón', 'metales', 'multimaterial', 'papel', 'plástico', 'vidrio', 'varios']\n",
        "\n",
        "    # Initialize the map\n",
        "    map = go.Figure()\n",
        "\n",
        "    # Add map traces for each material type\n",
        "    for material in materials:\n",
        "        map.add_trace(go.Scattermapbox(\n",
        "            lat=data['latitud'],\n",
        "            lon=data['longitud'],\n",
        "            mode='markers',\n",
        "            marker=go.scattermapbox.Marker(\n",
        "                size=12,\n",
        "                opacity=0.5\n",
        "            ),\n",
        "            text=data['departamento'],\n",
        "            hoverinfo='text',\n",
        "            name=material\n",
        "        ))\n",
        "\n",
        "    # Update layout with map style and layout settings\n",
        "    map.update_layout(\n",
        "        mapbox_style=\"open-street-map\",\n",
        "        autosize=True,\n",
        "        hovermode='closest',\n",
        "        showlegend=True,\n",
        "        height=600\n",
        "    )\n",
        "\n",
        "    # Set map center and zoom level\n",
        "    map.update_mapboxes(\n",
        "        center=go.layout.mapbox.Center(\n",
        "            lat=df.loc[0, 'latitud'],\n",
        "            lon=df.loc[0, 'longitud']\n",
        "        ),\n",
        "        zoom=4\n",
        "    )\n",
        "\n",
        "    return map\n"
      ],
      "metadata": {
        "id": "yqdtLZJsXLZl"
      },
      "execution_count": null,
      "outputs": []
    },
    {
      "cell_type": "code",
      "source": [
        "create_map(\"baja\")"
      ],
      "metadata": {
        "id": "QWnHeagZfZRR"
      },
      "execution_count": null,
      "outputs": []
    },
    {
      "cell_type": "markdown",
      "source": [
        "## <font color='8EC044'> **Ejercicio 1** </font>\n",
        "\n",
        "Diseñe una tablero que pemrita al usuario visualizar la información de la capacidad de los transformadores de los distintos materiales, según se muestra en el siguiente video\n",
        "\n",
        "\n",
        "[![](https://docs.google.com/uc?export=download&id=1eTeCdx6gvhtn3a9kWQUURiopcoQNPkjg)](https://drive.google.com/file/d/13RdaJiVH1LcGbbF303D3HYmrr709qG24/view?usp=sharing \"Introducción\")\n",
        "\n",
        "\n"
      ],
      "metadata": {
        "id": "OFVzK3UImpox"
      }
    },
    {
      "cell_type": "code",
      "source": [
        "# Instalar bibliotecas necesarias\n",
        "!pip install dash plotly pandas flask-ngrok\n",
        "\n",
        "import pandas as pd\n",
        "import numpy as np\n",
        "from dash import Dash, dcc, html, Input, Output\n",
        "import plotly.graph_objects as go\n",
        "from flask_ngrok import run_with_ngrok\n",
        "\n",
        "# Cargar datos\n",
        "!gdown 1oP0ygviQAsthXGlzTJnknd72F6mHPhUV\n",
        "df = pd.read_csv('datos_transformadores.csv')\n",
        "\n",
        "# Calcular cuartiles de capacidad\n",
        "q1 = np.round(df['capacidad'].quantile(0.25), 1)\n",
        "q2 = np.round(df['capacidad'].quantile(0.50), 1)\n",
        "q3 = np.round(df['capacidad'].quantile(0.75), 1)\n",
        "\n",
        "# Inicializar la aplicación Dash\n",
        "app = Dash(__name__)\n",
        "run_with_ngrok(app)  # Habilitar ngrok para el servidor de Dash en Colab\n",
        "\n",
        "# Función para crear el mapa\n",
        "def create_map(df, capacity):\n",
        "    if capacity == 'todos':\n",
        "        data = df\n",
        "    elif capacity == \"alta\":\n",
        "        data = df[df['capacidad'] >= q3]\n",
        "    elif capacity == \"media\":\n",
        "        data = df[(df['capacidad'] < q3) & (df['capacidad'] >= q1)]\n",
        "    elif capacity == \"baja\":\n",
        "        data = df[df['capacidad'] < q1]\n",
        "\n",
        "    # Crear el mapa\n",
        "    map_fig = go.Figure()\n",
        "    for material in df['material'].unique():\n",
        "        df_material = data[data['material'] == material]\n",
        "        map_fig.add_trace(go.Scattermapbox(\n",
        "            lat=df_material['latitud'],\n",
        "            lon=df_material['longitud'],\n",
        "            mode='markers',\n",
        "            marker=go.scattermapbox.Marker(size=12, opacity=0.5),\n",
        "            text=df_material['departamento'],\n",
        "            hoverinfo='text',\n",
        "            name=material\n",
        "        ))\n",
        "\n",
        "    # Configuración del mapa centrado en Colombia\n",
        "    map_fig.update_layout(\n",
        "        mapbox_style=\"open-street-map\",\n",
        "        autosize=True,\n",
        "        hovermode='closest',\n",
        "        showlegend=True,\n",
        "        height=600,\n",
        "        mapbox=dict(\n",
        "            center=go.layout.mapbox.Center(\n",
        "                lat=4.5709,  # Latitud aproximada del centro de Colombia\n",
        "                lon=-74.2973  # Longitud aproximada del centro de Colombia\n",
        "            ),\n",
        "            zoom=4  # Ajusta el zoom para ver todo el país\n",
        "        )\n",
        "    )\n",
        "\n",
        "    return map_fig\n",
        "\n",
        "# Layout de la aplicación\n",
        "app.layout = html.Div([\n",
        "    html.H1(\"Transformadores de Material Reciclado en Colombia\"),\n",
        "    html.Label(\"Selecciona el nivel de capacidad:\"),\n",
        "    dcc.Dropdown(\n",
        "        id='capacity-dropdown',\n",
        "        options=[\n",
        "            {'label': 'Todos', 'value': 'todos'},\n",
        "            {'label': 'Alta capacidad', 'value': 'alta'},\n",
        "            {'label': 'Media capacidad', 'value': 'media'},\n",
        "            {'label': 'Baja capacidad', 'value': 'baja'}\n",
        "        ],\n",
        "        value='todos'\n",
        "    ),\n",
        "    dcc.Graph(id='map-graph')\n",
        "])\n",
        "\n",
        "# Callback para actualizar el mapa en función del filtro de capacidad\n",
        "@app.callback(\n",
        "    Output('map-graph', 'figure'),\n",
        "    [Input('capacity-dropdown', 'value')]\n",
        ")\n",
        "def update_map(selected_capacity):\n",
        "    return create_map(df, selected_capacity)\n",
        "\n",
        "# Ejecutar la aplicación\n",
        "app.run_server()\n"
      ],
      "metadata": {
        "id": "RXo4l02vc2n5"
      },
      "execution_count": null,
      "outputs": []
    }
  ]
}