{
  "nbformat": 4,
  "nbformat_minor": 0,
  "metadata": {
    "colab": {
      "private_outputs": true,
      "provenance": [],
      "include_colab_link": true
    },
    "kernelspec": {
      "name": "python3",
      "display_name": "Python 3"
    },
    "language_info": {
      "name": "python"
    }
  },
  "cells": [
    {
      "cell_type": "markdown",
      "metadata": {
        "id": "view-in-github",
        "colab_type": "text"
      },
      "source": [
        "<a href=\"https://colab.research.google.com/github/pipeberrio/Analitica/blob/main/Tarea4.ipynb\" target=\"_parent\"><img src=\"https://colab.research.google.com/assets/colab-badge.svg\" alt=\"Open In Colab\"/></a>"
      ]
    },
    {
      "cell_type": "markdown",
      "source": [
        "**TAREA NUMERO 4**\n",
        "\n",
        "\n",
        "FELIPE BERRIO GOMEZ CC1035416370"
      ],
      "metadata": {
        "id": "h4Jvl3ebB8lu"
      }
    },
    {
      "cell_type": "markdown",
      "source": [
        "<p><img alt=\"banner\" height=\"252px\" width=\"1080px\" src=\"https://docs.google.com/uc?export=download&id=1SqbMIjMfsMlSukiTyfMJ0VMuDlP2hGhx\"  align=\"center\" hspace=\"10px\" vspace=\"0px\" ></p>"
      ],
      "metadata": {
        "id": "ix-VqRWgbucB"
      }
    },
    {
      "cell_type": "markdown",
      "source": [
        "# <font color='056938'> **Descripción del problema** </font>\n",
        "\n",
        "La Autoridad Nacional de Licencias Ambientales ha consolidado y preprocesado la siguiente base de datos respecto a los trabsformadores de material reciclado en Colombia.\n",
        "\n",
        "\n",
        "\n",
        "\n",
        "\n",
        "\n",
        "\n",
        "\n"
      ],
      "metadata": {
        "id": "__NNq0FKbwMw"
      }
    },
    {
      "cell_type": "code",
      "source": [
        "import pandas as pd\n",
        "\n",
        "\n",
        "!gdown 1oP0ygviQAsthXGlzTJnknd72F6mHPhUV\n",
        "df = pd.read_csv('datos_transformadores.csv')\n",
        "df.head()\n"
      ],
      "metadata": {
        "id": "7vQl70ZBIXDI"
      },
      "execution_count": null,
      "outputs": []
    },
    {
      "cell_type": "markdown",
      "source": [
        "Con el finde construir los insumos necesarios para generar un tablero de datos, se requiere que usted diseñe algunas funciones para crear los gráficos que iran en el"
      ],
      "metadata": {
        "id": "FyykAAi4IhDO"
      }
    },
    {
      "cell_type": "markdown",
      "source": [
        "## <font color='8EC044'> **Ejercicio 1** </font>\n",
        "\n",
        "Diseñe una función que dados el argumento `material` retorne un mapa de colombia visualizando todos los transformadores que realizan procesamiento de dicho material. La función deberá tener un valor por defecto todos, que muestre todos los transformadores sin impoertar le material que procesan. Los posible valores para el argunmento material son `['plástico', 'cartón', 'vidrio', 'metales', 'multimaterial', 'varios', 'papel']`\n"
      ],
      "metadata": {
        "id": "OFVzK3UImpox"
      }
    },
    {
      "cell_type": "code",
      "metadata": {
        "id": "BwaHQyADAi43"
      },
      "source": [
        "!gdown 1yyOPsDXgSMJcISDH-_7HqNvqoynnOcTQ # Descargar el archivo co_2018_MGN_MPIO_POLITICO.geojson\n",
        "\n",
        "import pandas as pd\n",
        "import geopandas as gpd\n",
        "import plotly.express as px\n",
        "\n",
        "# Cargar el archivo de transformadores\n",
        "df = pd.read_csv('datos_transformadores.csv')\n",
        "\n",
        "# Cargar el archivo GeoJSON de Colombia\n",
        "gdf_colombia = gpd.read_file('co_2018_MGN_MPIO_POLITICO.geojson')\n",
        "\n",
        "def graficar_transformadores_mapa(material=\"todos\"):\n",
        "    \"\"\"\n",
        "    Función para visualizar los transformadores de material reciclado en un mapa de Colombia.\n",
        "\n",
        "    Parámetros:\n",
        "    - material (str): Tipo de material a mostrar. Puede ser 'plástico', 'cartón', 'vidrio', 'metales',\n",
        "                      'multimaterial', 'varios', 'papel' o 'todos' (por defecto).\n",
        "    \"\"\"\n",
        "    # Filtrar los datos según el tipo de material\n",
        "    if material != \"todos\":\n",
        "        df_filtrado = df[df['material'] == material]\n",
        "    else:\n",
        "        df_filtrado = df\n",
        "\n",
        "    # Convertir el DataFrame en un GeoDataFrame para asegurar coordenadas geográficas\n",
        "    gdf_transformadores = gpd.GeoDataFrame(\n",
        "        df_filtrado,\n",
        "        geometry=gpd.points_from_xy(df_filtrado['longitud'], df_filtrado['latitud']),\n",
        "        crs=\"EPSG:4326\"\n",
        "    )\n",
        "\n",
        "    # Convertir el GeoDataFrame de Colombia a formato GeoJSON\n",
        "    geojson_colombia = gdf_colombia.__geo_interface__\n",
        "\n",
        "    # Crear el mapa de Colombia\n",
        "    fig = px.scatter_mapbox(\n",
        "        gdf_transformadores,\n",
        "        lat=gdf_transformadores.geometry.y,\n",
        "        lon=gdf_transformadores.geometry.x,\n",
        "        hover_name=\"razon social\",\n",
        "        hover_data={\n",
        "            \"departamento\": True,\n",
        "            \"capacidad\": True,\n",
        "            \"material\": True\n",
        "        },\n",
        "        color=\"material\",\n",
        "        color_discrete_sequence=px.colors.qualitative.Set3,\n",
        "        zoom=4.5,\n",
        "        center={\"lat\": 4.5709, \"lon\": -74.2973},\n",
        "        opacity=0.9,\n",
        "        size_max=10,  # Aumentar el tamaño máximo de los puntos\n",
        "        size=[7] * len(gdf_transformadores)  # Tamaño consistente de los puntos para mayor visibilidad\n",
        "    )\n",
        "\n",
        "    # Añadir el estilo de mapa y configuraciones\n",
        "    fig.update_layout(\n",
        "        mapbox_style=\"carto-positron\",\n",
        "        mapbox_layers=[\n",
        "            {\n",
        "                \"source\": geojson_colombia,\n",
        "                \"type\": \"line\",\n",
        "                \"color\": \"black\",\n",
        "                \"opacity\": 0.03,  # Opacidad ajustada para líneas divisorias más suaves\n",
        "            }\n",
        "        ]\n",
        "    )\n",
        "\n",
        "    # Ajustes adicionales de diseño\n",
        "    fig.update_layout(\n",
        "        title={\n",
        "            'text': f\"Transformadores de Material: {material.capitalize() if material != 'todos' else 'Todos'}\",\n",
        "            'y':0.9,\n",
        "            'x':0.5,\n",
        "            'xanchor': 'center',\n",
        "            'yanchor': 'top'\n",
        "        },\n",
        "        margin={\"r\":0,\"t\":30,\"l\":0,\"b\":0}\n",
        "    )\n",
        "\n",
        "    # Mostrar el mapa\n",
        "    fig.show()\n",
        "\n",
        "\n",
        "# Para ver todos los transformadores sin importar el material\n",
        "graficar_transformadores_mapa()\n"
      ],
      "execution_count": null,
      "outputs": []
    },
    {
      "cell_type": "markdown",
      "source": [
        "Pruebe que la función funciona corriendola para un ejemplo en el DataFrame `df`"
      ],
      "metadata": {
        "id": "HzuFq-okmruv"
      }
    },
    {
      "cell_type": "code",
      "source": [
        "#EJEMPLO\n",
        "# Para ver solo los transformadores de cartón\n",
        "graficar_transformadores_mapa('cartón')"
      ],
      "metadata": {
        "id": "3OlZksdwm3j3"
      },
      "execution_count": null,
      "outputs": []
    },
    {
      "cell_type": "markdown",
      "source": [
        "## <font color='8EC044'> **Ejercicio 2** </font>\n",
        "\n",
        "Diseñe una función que dados el argumento `material` retorne un gráfico de barras que retorne la capacidad de procesamiento de dicho material en los distintos departamentos. La función deberá tener un valor por defecto todos, que muestre todos los transformadores sin impoertar le material que procesan\n"
      ],
      "metadata": {
        "id": "JvTwj4gIX_8G"
      }
    },
    {
      "cell_type": "code",
      "source": [
        "import pandas as pd\n",
        "import plotly.express as px\n",
        "\n",
        "# Cargar el archivo de transformadores\n",
        "df = pd.read_csv('datos_transformadores.csv')\n",
        "\n",
        "def graficar_capacidad_total_por_departamento(material=\"todos\"):\n",
        "    \"\"\"\n",
        "    Función para visualizar la capacidad total de procesamiento en los distintos departamentos,\n",
        "    con opción de filtrar por un material específico.\n",
        "\n",
        "    Parámetros:\n",
        "    - material (str): Tipo de material a mostrar. Puede ser 'plástico', 'cartón', 'vidrio', 'metales',\n",
        "                      'multimaterial', 'varios', 'papel' o 'todos' (por defecto).\n",
        "    \"\"\"\n",
        "    # Filtrar los datos según el tipo de material\n",
        "    if material != \"todos\":\n",
        "        df_filtrado = df[df['material'] == material]\n",
        "    else:\n",
        "        df_filtrado = df\n",
        "\n",
        "    # Agrupar por departamento y sumar la capacidad de procesamiento total\n",
        "    capacidad_total_departamento = df_filtrado.groupby('departamento')['capacidad'].sum().reset_index()\n",
        "\n",
        "    # Crear el gráfico de barras\n",
        "    fig = px.bar(\n",
        "        capacidad_total_departamento,\n",
        "        x='departamento',\n",
        "        y='capacidad',\n",
        "        title=f\"Capacidad de Procesamiento por Departamento para {material.capitalize() if material != 'todos' else 'Todos los Materiales'}\",\n",
        "        labels={'departamento': 'Departamento', 'capacidad': 'Capacidad de Procesamiento (toneladas)'},\n",
        "        color_discrete_sequence=[\"#636EFA\"]  # Color del gráfico\n",
        "    )\n",
        "\n",
        "    # Mejorar visualización del gráfico\n",
        "    fig.update_layout(\n",
        "        xaxis={'categoryorder': 'total descending'},  # Ordenar departamentos por capacidad\n",
        "        xaxis_tickangle=-45  # Rotación de etiquetas del eje x\n",
        "    )\n",
        "    fig.show()\n",
        "\n",
        "# Ejemplo de uso:\n",
        "# Para ver la capacidad total de procesamiento de todos los materiales\n",
        "graficar_capacidad_total_por_departamento()\n",
        "\n",
        "\n",
        "\n"
      ],
      "metadata": {
        "id": "GAxOOrafW67H"
      },
      "execution_count": null,
      "outputs": []
    },
    {
      "cell_type": "markdown",
      "source": [
        "Pruebe que la función funciona corriendola para un ejemplo en el DataFrame `df`"
      ],
      "metadata": {
        "id": "tg4FSgIrmznq"
      }
    },
    {
      "cell_type": "code",
      "source": [
        "# Para ver solo la capacidad de procesamiento de cartón\n",
        "graficar_capacidad_total_por_departamento('cartón')\n",
        "\n"
      ],
      "metadata": {
        "id": "UQW0Hmq0m0Ft"
      },
      "execution_count": null,
      "outputs": []
    },
    {
      "cell_type": "code",
      "source": [],
      "metadata": {
        "id": "H72qHWGBvUAy"
      },
      "execution_count": null,
      "outputs": []
    }
  ]
}