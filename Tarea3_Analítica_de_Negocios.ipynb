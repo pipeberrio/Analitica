{
  "nbformat": 4,
  "nbformat_minor": 0,
  "metadata": {
    "colab": {
      "private_outputs": true,
      "provenance": [],
      "include_colab_link": true
    },
    "kernelspec": {
      "name": "python3",
      "display_name": "Python 3"
    },
    "language_info": {
      "name": "python"
    }
  },
  "cells": [
    {
      "cell_type": "markdown",
      "metadata": {
        "id": "view-in-github",
        "colab_type": "text"
      },
      "source": [
        "<a href=\"https://colab.research.google.com/github/pipeberrio/Analitica/blob/main/Tarea3_Anal%C3%ADtica_de_Negocios.ipynb\" target=\"_parent\"><img src=\"https://colab.research.google.com/assets/colab-badge.svg\" alt=\"Open In Colab\"/></a>"
      ]
    },
    {
      "cell_type": "markdown",
      "source": [
        "**Tarea #3**\n",
        "\n",
        "\n",
        "Raul Felipe Berrio Gomez CC *1035416370*"
      ],
      "metadata": {
        "id": "XNSUpcJ-qVFD"
      }
    },
    {
      "cell_type": "markdown",
      "source": [
        "Se identifican los valores faltantes para las columnas a trabajar"
      ],
      "metadata": {
        "id": "4Tylp3zUOHt6"
      }
    },
    {
      "cell_type": "code",
      "source": [
        "import pandas as pd\n",
        "\n",
        "!gdown 110nTRpCHddZGW-dXA2d6M645IjFPCaMG\n",
        "\n",
        "df = pd.read_excel('datos_pqr.xlsx')\n",
        "df = df.rename(columns={\n",
        "         'Radicado':'radicado',\n",
        "         'No. codificación de registro de inscripción ':'registro de inscripción',\n",
        "         'Mes/Año inscripción':'fecha',\n",
        "         'Autoridad Ambiental Competente':'jurisdiccion',\n",
        "         'Nombre o razon social':'razon social',\n",
        "         'Número de identificación o NIT':'NIT',\n",
        "         'Representante legal':'representante',\n",
        "         'Dirección, física de la planta de transformación':'direccion',\n",
        "         'Teléfono':'telefono',\n",
        "         'Correo electrónico':'correo',\n",
        "         'Capacidad instalada de transformación (ton/año)':'capacidad',\n",
        "         'Tipo de material a transformar':'material',\n",
        "         'Tipo de transformación':'transformacion',\n",
        "         'No. del acto adminitrativo  por la cual se otorga permisos, concesiones y autorizaciónes del transformador  (si aplica)': 'No_acto',\n",
        "         'Fecha del acto administrativo (si aplica)':'fecha_acto',\n",
        "         'Descripción de la actividad autorizada mediante permisos, concesiones y autorizaciónes del transformador  (si aplica)':'descripcion_act',\n",
        "         'Observaciones': 'observaciones',\n",
        "         'Responsable reporte':'responsable_reporte'\n",
        "})\n",
        "df\n"
      ],
      "metadata": {
        "id": "s1SKJrE_MI-P"
      },
      "execution_count": null,
      "outputs": []
    },
    {
      "cell_type": "markdown",
      "source": [
        "Renombrar las columnas del DF"
      ],
      "metadata": {
        "id": "mrsJ0jLIMUIG"
      }
    },
    {
      "cell_type": "code",
      "source": [
        "\n",
        "\n",
        "# Renombrar las columnas\n",
        "df = df.rename(columns={\n",
        "    'Radicado':'radicado',\n",
        "    'No. codificación de registro de inscripción ':'registro_inscripcion',\n",
        "    'Mes/Año inscripción':'fecha',\n",
        "    'Autoridad Ambiental Competente':'jurisdiccion',\n",
        "    'Nombre o razon social':'razon social',\n",
        "    'Número de identificación o NIT':'NIT',\n",
        "    'Representante legal':'representante',\n",
        "    'Dirección, física de la planta de transformación':'direccion',\n",
        "    'Teléfono':'telefono',\n",
        "    'Correo electrónico':'correo',\n",
        "    'Capacidad instalada de transformación (ton/año)':'capacidad',\n",
        "    'Tipo de material a transformar':'material',\n",
        "    'Tipo de transformación':'transformacion'\n",
        "})\n",
        "\n",
        "# Verificar cuántos valores faltantes hay en cada una de las columnas especificadas\n",
        "columnas_interes = ['razon social', 'NIT', 'representante', 'direccion', 'telefono', 'correo', 'capacidad', 'material', 'transformacion']\n",
        "valores_faltantes = df[columnas_interes].isnull().sum()\n",
        "\n",
        "print(\"Valores faltantes por columna:\")\n",
        "print(valores_faltantes)\n"
      ],
      "metadata": {
        "id": "U1sGSAHEN6r4"
      },
      "execution_count": null,
      "outputs": []
    },
    {
      "cell_type": "markdown",
      "source": [
        "Una vez identificados se eliminaran las filas donde hay valores faltantes"
      ],
      "metadata": {
        "id": "dTIISTABOMro"
      }
    },
    {
      "cell_type": "code",
      "source": [
        "# Eliminar las filas que tengan valores faltantes en las columnas de interés\n",
        "df_limpio = df.dropna(subset=columnas_interes)\n",
        "\n",
        "# Verificar que no haya valores faltantes en las columnas de interés\n",
        "valores_faltantes_limpio = df_limpio[columnas_interes].isnull().sum()\n",
        "\n",
        "print(\"Valores faltantes después de la limpieza:\")\n",
        "print(valores_faltantes_limpio)\n",
        "\n",
        "# Mostrar el número de filas antes y después de la limpieza\n",
        "print(f\"Número de filas antes de la limpieza: {len(df)}\")\n",
        "print(f\"Número de filas después de la limpieza: {len(df_limpio)}\")\n"
      ],
      "metadata": {
        "id": "brpKjyywOYBq"
      },
      "execution_count": null,
      "outputs": []
    },
    {
      "cell_type": "markdown",
      "source": [
        "Ahora se prosigue con el tratamiento de datos duplicados"
      ],
      "metadata": {
        "id": "0jmniTvMOrVx"
      }
    },
    {
      "cell_type": "code",
      "source": [
        "# Identificar filas duplicadas basadas en las columnas de interés\n",
        "duplicados = df_limpio.duplicated(subset=columnas_interes)\n",
        "\n",
        "# Mostrar cuántos duplicados hay\n",
        "print(f\"Número de filas duplicadas: {duplicados.sum()}\")"
      ],
      "metadata": {
        "id": "YD12nudCOmDs"
      },
      "execution_count": null,
      "outputs": []
    },
    {
      "cell_type": "markdown",
      "source": [
        "Se eliminan las filas con datos duplicados"
      ],
      "metadata": {
        "id": "pUvC-vGxOvqo"
      }
    },
    {
      "cell_type": "code",
      "source": [
        "# Eliminar duplicados\n",
        "df_sin_duplicados = df_limpio.drop_duplicates(subset=columnas_interes)\n",
        "\n",
        "# Mostrar el número de filas antes y después de eliminar duplicados\n",
        "print(f\"Número de filas antes de eliminar duplicados: {len(df_limpio)}\")\n",
        "print(f\"Número de filas después de eliminar duplicados: {len(df_sin_duplicados)}\")"
      ],
      "metadata": {
        "id": "6s2_wr1FOpGR"
      },
      "execution_count": null,
      "outputs": []
    },
    {
      "cell_type": "code",
      "source": [
        "# Convertir la columna 'capacidad' a numérica, eliminando cualquier valor no convertible\n",
        "df_sin_duplicados['capacidad'] = pd.to_numeric(df_sin_duplicados['capacidad'], errors='coerce')\n",
        "\n",
        "# Calcular el primer cuartil (Q1) y el tercer cuartil (Q3)\n",
        "Q1 = df_sin_duplicados['capacidad'].quantile(0.25)\n",
        "Q3 = df_sin_duplicados['capacidad'].quantile(0.75)\n",
        "IQR = Q3 - Q1\n",
        "\n",
        "# Definir los límites para identificar outliers\n",
        "limite_inferior = Q1 - 1.5 * IQR\n",
        "limite_superior = Q3 + 1.5 * IQR\n",
        "\n",
        "# Filtrar los datos para excluir outliers\n",
        "df_sin_outliers = df_sin_duplicados[\n",
        "    (df_sin_duplicados['capacidad'] >= limite_inferior) &\n",
        "    (df_sin_duplicados['capacidad'] <= limite_superior)\n",
        "]\n",
        "\n",
        "# Mostrar cuántas filas tenían outliers\n",
        "print(f\"Número de filas antes de eliminar outliers: {len(df_sin_duplicados)}\")\n",
        "print(f\"Número de filas después de eliminar outliers: {len(df_sin_outliers)}\")\n",
        "print(f\"Outliers eliminados: {len(df_sin_duplicados) - len(df_sin_outliers)}\")\n"
      ],
      "metadata": {
        "id": "Ot4hm489PLbv"
      },
      "execution_count": null,
      "outputs": []
    },
    {
      "cell_type": "markdown",
      "source": [
        "pd.to_numeric(..., errors='coerce'): Convertimos la columna capacidad a un tipo numérico, reemplazando cualquier valor no numérico con NaN.\n",
        "\n",
        "\n",
        "quantile(0.25) y quantile(0.75): Calculan el primer cuartil (Q1) y el tercer cuartil (Q3), necesarios para identificar el IQR.\n",
        "Límites de outliers: Se establecen como 1.5 veces el IQR por debajo de Q1 y por encima de Q3.\n",
        "\n",
        "\n",
        "Filtrado: Se eliminan las filas cuyo valor de capacidad está fuera de estos límites."
      ],
      "metadata": {
        "id": "ueZe_ymCPXLb"
      }
    },
    {
      "cell_type": "markdown",
      "source": [
        "Normalización de columnas\n",
        "\n",
        "Normalización de la columna direccion:\n",
        "El objetivo es garantizar que las direcciones sigan un formato coherente, como asegurarse de que no haya espacios en blanco adicionales, caracteres innecesarios o que sigan un formato claro."
      ],
      "metadata": {
        "id": "i65qEoreP-u7"
      }
    },
    {
      "cell_type": "code",
      "source": [
        "import re\n",
        "\n",
        "# Función para estandarizar las direcciones\n",
        "def estandarizar_direccion(direccion):\n",
        "    if pd.isnull(direccion):\n",
        "        return direccion  # Si la dirección es nula, no hacer nada\n",
        "    direccion = direccion.strip()  # Eliminar espacios al inicio y al final\n",
        "    direccion = direccion.upper()  # Convertir a mayúsculas\n",
        "    direccion = re.sub(r'\\bCRA\\b', 'CARRERA', direccion)  # Reemplazar \"CRA\" por \"CARRERA\"\n",
        "    direccion = re.sub(r'#', '', direccion)  # Eliminar el símbolo \"#\"\n",
        "    direccion = re.sub(r'-', '', direccion)  # Eliminar el símbolo \"-\"\n",
        "    direccion = direccion.replace('.', '')  # Eliminar el carácter \".\"\n",
        "    direccion = re.sub(r',', '', direccion)  # Eliminar el símbolo \",\"\n",
        "    direccion = re.sub(r'\\bNO\\b', '', direccion)  # Eliminar \"NO\"\n",
        "    direccion = re.sub(r'\\bN°\\b', '', direccion)  # Eliminar \"N°\"\n",
        "    direccion = re.sub(r'\\bNº\\b', '', direccion)  # Eliminar \"Nº\"\n",
        "    direccion = re.sub(r'\\bª\\b', '', direccion)  # Eliminar \"ª\"\n",
        "    direccion = direccion.replace('CARRRERA', 'CARRERA')\n",
        "    direccion = direccion.replace('CALLE', 'CALLE')\n",
        "    direccion = direccion.replace('KM', 'KILOMETRO')\n",
        "    direccion = direccion.replace('NRO', 'NÚMERO')\n",
        "    direccion = direccion.replace('NO', 'NÚMERO')\n",
        "    direccion = re.sub(r'\\s+', ' ', direccion)  # Eliminar múltiples espacios y dejar solo uno\n",
        "    return direccion\n",
        "\n",
        " # Reemplazar múltiples espacios por un solo espacio\n",
        "    direccion = re.sub(r'\\s+', ' ', direccion)\n",
        "\n",
        "    # Eliminar espacios al inicio y al final\n",
        "    direccion = direccion.strip()\n",
        "\n",
        "    return direccion\n",
        "\n",
        "# Supongamos que la columna de direcciones se llama 'direccion'\n",
        "df['direccion'] = df['direccion'].apply(estandarizar_direccion)\n",
        "\n",
        "# Guardar el DataFrame limpio\n",
        "df.to_csv('direcciones_limpias.csv', index=False)\n",
        "# Aplicar la función de normalización a la columna 'direccion'\n",
        "df_sin_outliers['direccion'] = df_sin_outliers['direccion'].apply(estandarizar_direccion)\n",
        "\n",
        "# Mostrar algunas direcciones normalizadas\n",
        "df_sin_outliers['direccion'].head()\n",
        "df_sin_outliers\n"
      ],
      "metadata": {
        "id": "cRCuQquVPi3o"
      },
      "execution_count": null,
      "outputs": []
    },
    {
      "cell_type": "markdown",
      "source": [
        "Normalización de la columna correo:\n",
        "\n",
        "Para los correos electrónicos, nos aseguraremos de que no tengan espacios innecesarios y que el formato sea consistente.\n",
        "\n"
      ],
      "metadata": {
        "id": "7CCjvMNdQNBQ"
      }
    },
    {
      "cell_type": "code",
      "source": [
        "import pandas as pd\n",
        "import re\n",
        "import numpy as np  # Importar numpy para usar np.nan\n",
        "\n",
        "# Función para estandarizar los correos electrónicos\n",
        "def estandarizar_correo(correo):\n",
        "    if pd.isnull(correo):\n",
        "        return correo  # Si el correo es nulo, no hacer nada\n",
        "    correo = correo.strip()  # Eliminar espacios al inicio y al final\n",
        "    correo = correo.lower()  # Convertir a minúsculas\n",
        "    # Verificar el formato básico de un correo electrónico\n",
        "    if re.match(r'^[\\w\\.-]+@[\\w\\.-]+\\.\\w+$', correo):\n",
        "        return correo\n",
        "    else:\n",
        "        return None  # Retornar None si el correo no es válido\n",
        "\n",
        "# Aplicar la función de normalización a la columna 'correo' usando .loc\n",
        "df_sin_outliers.loc[:, 'correo'] = df_sin_outliers['correo'].apply(estandarizar_correo)\n",
        "\n",
        "# Reemplazar None por NaN\n",
        "df_sin_outliers['correo'].replace({None: np.nan}, inplace=True)\n",
        "\n",
        "# Mostrar algunos correos normalizados\n",
        "print(df_sin_outliers['correo'].head())\n",
        "\n",
        "# Verificar el número de filas y columnas después de la normalización\n",
        "print(f\"Filas y columnas después de la normalización del correo: {df_sin_outliers.shape}\")\n",
        "\n",
        "\n",
        "\n",
        "\n",
        "\n",
        "# Mostrar valores únicos de las columnas 'material' y 'transformacion'\n",
        "print(\"Valores únicos en 'material':\")\n",
        "print(df_sin_outliers['material'].unique())\n",
        "\n",
        "print(\"\\nValores únicos en 'transformacion':\")\n",
        "print(df_sin_outliers['transformacion'].unique())\n",
        "\n",
        "# Función para normalizar materiales\n",
        "def estandarizar_material(material):\n",
        "    if pd.isnull(material):\n",
        "        return material  # Si el material es nulo, no hacer nada\n",
        "    material = material.strip()  # Eliminar espacios al inicio y al final\n",
        "    material = material.lower()  # Convertir a minúsculas\n",
        "    # Reemplazar nombres similares o errores tipográficos\n",
        "    # Ejemplo de normalización, ajusta según tus necesidades\n",
        "    material = material.replace('plastic', 'plástico')\n",
        "    material = material.replace('metals', 'metales')\n",
        "    material = material.replace('glass', 'vidrio')\n",
        "    # Añadir más reglas según sea necesario\n",
        "    return material\n",
        "\n",
        "# Función para normalizar procesos de transformación\n",
        "def estandarizar_transformacion(transformacion):\n",
        "    if pd.isnull(transformacion):\n",
        "        return transformacion  # Si la transformación es nula, no hacer nada\n",
        "    transformacion = transformacion.strip()  # Eliminar espacios al inicio y al final\n",
        "    transformacion = transformacion.lower()  # Convertir a minúsculas\n",
        "    # Ejemplo de normalización, ajusta según tus necesidades\n",
        "    transformacion = transformacion.replace('recycle', 'reciclaje')\n",
        "    transformacion = transformacion.replace('reuse', 'reutilización')\n",
        "    # Añadir más reglas según sea necesario\n",
        "    return transformacion\n",
        "\n",
        "# Aplicar las funciones de normalización a las columnas correspondientes\n",
        "df_sin_outliers['material'] = df_sin_outliers['material'].apply(estandarizar_material)\n",
        "df_sin_outliers['transformacion'] = df_sin_outliers['transformacion'].apply(estandarizar_transformacion)\n",
        "\n",
        "# Mostrar algunos ejemplos normalizados\n",
        "print(\"\\nMateriales normalizados:\")\n",
        "print(df_sin_outliers['material'].head())\n",
        "\n",
        "print(\"\\nTransformaciones normalizadas:\")\n",
        "print(df_sin_outliers['transformacion'].head())\n",
        "\n",
        "df_sin_outliers\n"
      ],
      "metadata": {
        "id": "WDUfHwYFQPYJ"
      },
      "execution_count": null,
      "outputs": []
    },
    {
      "cell_type": "markdown",
      "source": [
        "Para ajustar la información en las columnas de material y transformacion, primero se debe decidir cómo normalizar y estandarizar los datos.\n",
        "\n",
        "Estos son los pasos que se siguieron:\n",
        "\n",
        "Listar los Valores Únicos: Primero, se revisan los valores únicos en las columnas para ver cómo están escritos y detectar inconsistencias.\n",
        "Definir Reglas de Normalización: Decidir cómo se vera cada material y proceso de transformación (por ejemplo, convertir todo a minúsculas, corregir errores tipográficos, estandarizar abreviaturas, etc.).\n",
        "Aplicar la Normalización: Se utiliza una función similar a la que se uso para las direcciones y correos."
      ],
      "metadata": {
        "id": "KOsbQaLEacnR"
      }
    },
    {
      "cell_type": "code",
      "source": [
        "import pandas as pd\n",
        "\n",
        "# Mostrar valores únicos de las columnas 'material' y 'transformacion'\n",
        "print(\"Valores únicos en 'material':\")\n",
        "print(df_sin_outliers['material'].unique())\n",
        "\n",
        "print(\"\\nValores únicos en 'transformacion':\")\n",
        "print(df_sin_outliers['transformacion'].unique())\n",
        "\n",
        "# Función para normalizar materiales\n",
        "def estandarizar_material(material):\n",
        "    if pd.isnull(material):\n",
        "        return material  # Si el material es nulo, no hacer nada\n",
        "    material = material.strip()  # Eliminar espacios al inicio y al final\n",
        "    material = material.lower()  # Convertir a minúsculas\n",
        "    # Reemplazar nombres similares o errores tipográficos\n",
        "    # Ejemplo de normalización, ajusta según tus necesidades\n",
        "    material = material.replace('plastic', 'plástico')\n",
        "    material = material.replace('metals', 'metales')\n",
        "    material = material.replace('glass', 'vidrio')\n",
        "    # Añadir más reglas según sea necesario\n",
        "    return material\n",
        "\n",
        "# Función para normalizar procesos de transformación\n",
        "def estandarizar_transformacion(transformacion):\n",
        "    if pd.isnull(transformacion):\n",
        "        return transformacion  # Si la transformación es nula, no hacer nada\n",
        "    transformacion = transformacion.strip()  # Eliminar espacios al inicio y al final\n",
        "    transformacion = transformacion.lower()  # Convertir a minúsculas\n",
        "    # Ejemplo de normalización, ajusta según tus necesidades\n",
        "    transformacion = transformacion.replace('recycle', 'reciclaje')\n",
        "    transformacion = transformacion.replace('reuse', 'reutilización')\n",
        "    # Añadir más reglas según sea necesario\n",
        "    return transformacion\n",
        "\n",
        "# Aplicar las funciones de normalización a las columnas correspondientes\n",
        "df_sin_outliers['material'] = df_sin_outliers['material'].apply(estandarizar_material)\n",
        "df_sin_outliers['transformacion'] = df_sin_outliers['transformacion'].apply(estandarizar_transformacion)\n",
        "\n",
        "# Mostrar algunos ejemplos normalizados\n",
        "print(\"\\nMateriales normalizados:\")\n",
        "print(df_sin_outliers['material'].head())\n",
        "\n",
        "print(\"\\nTransformaciones normalizadas:\")\n",
        "print(df_sin_outliers['transformacion'].head())\n",
        "\n",
        "df_sin_outliers\n",
        "\n",
        "\n"
      ],
      "metadata": {
        "id": "fGO06KMtZjfE"
      },
      "execution_count": null,
      "outputs": []
    },
    {
      "cell_type": "markdown",
      "source": [
        "Se elimina el caracter \".\" de la Columna NIT para hacer mas facil el tratamiento de los datos"
      ],
      "metadata": {
        "id": "CF4Zbrvj_Fcd"
      }
    },
    {
      "cell_type": "code",
      "source": [
        "# Eliminar el carácter \".\" de la columna NIT\n",
        "df_sin_outliers['NIT'] = df_sin_outliers['NIT'].str.replace('.', '', regex=False)\n",
        "\n",
        "# Verificar las primeras filas para confirmar los cambios\n",
        "df_sin_outliers['NIT'].head()\n",
        "\n",
        "df_sin_outliers"
      ],
      "metadata": {
        "id": "nzrzoN-tOUk4"
      },
      "execution_count": null,
      "outputs": []
    },
    {
      "cell_type": "markdown",
      "source": [
        "Se valida la cantidad de filas totales despues del preprocesamiento de los datos"
      ],
      "metadata": {
        "id": "Amhk6XL-WGgb"
      }
    },
    {
      "cell_type": "code",
      "source": [
        "# Mostrar la cantidad total de filas del DataFrame final\n",
        "total_filas = df.shape[0]\n",
        "print(f\"Cantidad total de filas en el DataFrame final: {total_filas}\")"
      ],
      "metadata": {
        "id": "I4LWy-LIBtd8"
      },
      "execution_count": null,
      "outputs": []
    },
    {
      "cell_type": "markdown",
      "source": [
        "Se genera el archivo en excel y su respectiva descarga"
      ],
      "metadata": {
        "id": "LfSHjkioV5Zi"
      }
    },
    {
      "cell_type": "code",
      "source": [
        "# Guardar el DataFrame como archivo Excel\n",
        "archivo_salida = 'datos_preprocesados.xlsx'\n",
        "df_sin_outliers.to_excel(archivo_salida, index=False)\n",
        "\n",
        "# Descargar el archivo en Google Colab\n",
        "from google.colab import files\n",
        "files.download(archivo_salida)"
      ],
      "metadata": {
        "id": "1ePWMc_F_lH1"
      },
      "execution_count": null,
      "outputs": []
    }
  ]
}