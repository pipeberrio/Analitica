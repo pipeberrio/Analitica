{
  "nbformat": 4,
  "nbformat_minor": 0,
  "metadata": {
    "colab": {
      "private_outputs": true,
      "provenance": [],
      "include_colab_link": true
    },
    "kernelspec": {
      "name": "python3",
      "display_name": "Python 3"
    },
    "language_info": {
      "name": "python"
    }
  },
  "cells": [
    {
      "cell_type": "markdown",
      "metadata": {
        "id": "view-in-github",
        "colab_type": "text"
      },
      "source": [
        "<a href=\"https://colab.research.google.com/github/pipeberrio/Analitica/blob/main/Tarea3_Anal%C3%ADtica_de_Negocios.ipynb\" target=\"_parent\"><img src=\"https://colab.research.google.com/assets/colab-badge.svg\" alt=\"Open In Colab\"/></a>"
      ]
    },
    {
      "cell_type": "markdown",
      "source": [
        "**Tarea #3**\n",
        "\n",
        "\n",
        "Raul Felipe Berrio Gomez CC *1035416370*"
      ],
      "metadata": {
        "id": "XNSUpcJ-qVFD"
      }
    },
    {
      "cell_type": "code",
      "source": [
        "import pandas as pd\n",
        "\n",
        "# ---------------------------------\n",
        "# 1. Descargar el archivo desde Google Drive y cargarlo\n",
        "# ---------------------------------\n",
        "\n",
        "# Descargar el archivo desde Google Drive usando el ID del archivo\n",
        "# Nota: Asegúrate de que el archivo esté compartido públicamente para poder descargarlo\n",
        "!gdown 110nTRpCHddZGW-dXA2d6M645IjFPCaMG\n",
        "\n",
        "# Cargar el archivo en un DataFrame de pandas desde el archivo descargado\n",
        "df = pd.read_excel('datos_pqr.xlsx')\n",
        "\n",
        "# Renombrar las columnas del DataFrame para facilitar el manejo\n",
        "df = df.rename(columns={\n",
        "    'Radicado':'radicado',\n",
        "    'No. codificación de registro de inscripción ':'registro de inscripción',\n",
        "    'Mes/Año inscripción':'fecha',\n",
        "    'Autoridad Ambiental Competente':'jurisdiccion',\n",
        "    'Nombre o razon social':'razon social',\n",
        "    'Número de identificación o NIT':'NIT',\n",
        "    'Representante legal':'representante',\n",
        "    'Dirección, física de la planta de transformación':'direccion',\n",
        "    'Teléfono':'telefono',\n",
        "    'Correo electrónico':'correo',\n",
        "    'Capacidad instalada de transformación (ton/año)':'capacidad',\n",
        "    'Tipo de material a transformar':'material',\n",
        "    'Tipo de transformación':'transformacion',\n",
        "    'No. del acto adminitrativo  por la cual se otorga permisos, concesiones y autorizaciónes del transformador  (si aplica)': 'No_acto',\n",
        "    'Fecha del acto administrativo (si aplica)':'fecha_acto',\n",
        "    'Descripción de la actividad autorizada mediante permisos, concesiones y autorizaciónes del transformador  (si aplica)': 'descripcion_act',\n",
        "    'Observaciones': 'observaciones',\n",
        "    'Responsable reporte':'responsable_reporte'\n",
        "})\n",
        "\n",
        "# ---------------------------------\n",
        "# 2. Gestionar datos faltantes y duplicados\n",
        "# ---------------------------------\n",
        "\n",
        "# Eliminar duplicados\n",
        "df.drop_duplicates(inplace=True)\n",
        "\n",
        "# Rellenar valores faltantes en las columnas 'telefono' y 'correo'\n",
        "df['telefono'] = df['telefono'].fillna('No disponible')\n",
        "df['correo'] = df['correo'].fillna('No disponible')\n",
        "\n",
        "# Para columnas críticas como 'direccion', 'razon social', 'material' y 'transformacion', eliminamos las filas faltantes\n",
        "df.dropna(subset=['direccion', 'razon social', 'material', 'transformacion'], inplace=True)\n",
        "\n",
        "# ---------------------------------\n",
        "# 3. Normalización de la columna 'direccion'\n",
        "# ---------------------------------\n",
        "\n",
        "# Eliminar espacios adicionales, convertir a título (capitalizar cada palabra), y remover caracteres especiales innecesarios\n",
        "df['direccion'] = df['direccion'].str.strip().str.title()\n",
        "\n",
        "# Reemplazar múltiples espacios por uno solo\n",
        "df['direccion'] = df['direccion'].str.replace(' +', ' ', regex=True)\n",
        "\n",
        "# Remover caracteres especiales innecesarios de la columna 'direccion'\n",
        "df['direccion'] = df['direccion'].str.replace('[^A-Za-z0-9 ]', '', regex=True)\n",
        "\n",
        "# ---------------------------------\n",
        "# 4. Ajustar las columnas 'material' y 'transformacion'\n",
        "# ---------------------------------\n",
        "\n",
        "# Normalizar la columna 'material' para que esté en formato claro y limpio\n",
        "df['material'] = df['material'].str.lower().str.strip()\n",
        "\n",
        "# Si hay materiales múltiples, asegurarse de que estén separados correctamente (si están en una sola celda)\n",
        "df['material'] = df['material'].str.replace(',', ';')  # Por ejemplo, separa por punto y coma si los materiales están juntos por coma\n",
        "\n",
        "# Normalización de la columna 'transformacion'\n",
        "df['transformacion'] = df['transformacion'].str.lower().str.strip()\n",
        "\n",
        "# ---------------------------------\n",
        "# 5. Manejo de outliers en 'capacidad'\n",
        "# ---------------------------------\n",
        "\n",
        "# Convertir la columna 'capacidad' a numérico (asegúrate de que no haya datos erróneos)\n",
        "df['capacidad'] = pd.to_numeric(df['capacidad'], errors='coerce')\n",
        "\n",
        "# Eliminar filas con valores de capacidad faltantes o valores extremos si es necesario\n",
        "df.dropna(subset=['capacidad'], inplace=True)\n",
        "\n",
        "# Calcular el rango intercuartil (IQR) para detectar y eliminar outliers en la capacidad\n",
        "Q1 = df['capacidad'].quantile(0.25)\n",
        "Q3 = df['capacidad'].quantile(0.75)\n",
        "IQR = Q3 - Q1\n",
        "\n",
        "# Filtrar los outliers fuera de 1.5 veces el rango intercuartil\n",
        "df = df[(df['capacidad'] >= (Q1 - 1.5 * IQR)) & (df['capacidad'] <= (Q3 + 1.5 * IQR))]\n",
        "\n",
        "# Mostrar los primeros registros del DataFrame limpio\n",
        "df.head()\n",
        "\n"
      ],
      "metadata": {
        "id": "42X9WCTgME8S"
      },
      "execution_count": null,
      "outputs": []
    }
  ]
}