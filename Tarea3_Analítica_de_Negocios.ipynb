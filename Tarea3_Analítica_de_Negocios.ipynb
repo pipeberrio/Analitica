{
  "nbformat": 4,
  "nbformat_minor": 0,
  "metadata": {
    "colab": {
      "private_outputs": true,
      "provenance": [],
      "include_colab_link": true
    },
    "kernelspec": {
      "name": "python3",
      "display_name": "Python 3"
    },
    "language_info": {
      "name": "python"
    }
  },
  "cells": [
    {
      "cell_type": "markdown",
      "metadata": {
        "id": "view-in-github",
        "colab_type": "text"
      },
      "source": [
        "<a href=\"https://colab.research.google.com/github/pipeberrio/Analitica/blob/main/Tarea3_Anal%C3%ADtica_de_Negocios.ipynb\" target=\"_parent\"><img src=\"https://colab.research.google.com/assets/colab-badge.svg\" alt=\"Open In Colab\"/></a>"
      ]
    },
    {
      "cell_type": "markdown",
      "source": [
        "**Tarea #3**\n",
        "\n",
        "\n",
        "Raul Felipe Berrio Gomez CC *1035416370*"
      ],
      "metadata": {
        "id": "XNSUpcJ-qVFD"
      }
    },
    {
      "cell_type": "code",
      "source": [
        "import pandas as pd\n",
        "\n",
        "# Descargar el archivo desde Google Drive usando el ID del archivo\n",
        "# Esto descarga los datos necesarios para el análisis\n",
        "!gdown 110nTRpCHddZGW-dXA2d6M645IjFPCaMG\n",
        "\n",
        "# Cargar los datos en un DataFrame de pandas desde el archivo descargado\n",
        "# Utilizamos pd.read_excel para leer un archivo en formato Excel\n",
        "df = pd.read_excel('datos_pqr.xlsx')\n",
        "\n",
        "# Renombrar las columnas del DataFrame para facilitar el manejo en pasos posteriores\n",
        "# Los nombres originales se cambian por nombres más fáciles de manejar en el análisis\n",
        "df = df.rename(columns={\n",
        "    'Radicado':'radicado',\n",
        "    'No. codificación de registro de inscripción ':'registro de inscripción',\n",
        "    'Mes/Año inscripción':'fecha',\n",
        "    'Autoridad Ambiental Competente':'jurisdiccion',\n",
        "    'Nombre o razon social':'razon social',\n",
        "    'Número de identificación o NIT':'NIT',\n",
        "    'Representante legal':'representante',\n",
        "    'Dirección, física de la planta de transformación':'direccion',\n",
        "    'Teléfono':'telefono',\n",
        "    'Correo electrónico':'correo',\n",
        "    'Capacidad instalada de transformación (ton/año)':'capacidad',\n",
        "    'Tipo de material a transformar':'material',\n",
        "    'Tipo de transformación':'transformacion',\n",
        "    'No. del acto adminitrativo  por la cual se otorga permisos, concesiones y autorizaciónes del transformador  (si aplica)': 'No_acto',\n",
        "    'Fecha del acto administrativo (si aplica)':'fecha_acto',\n",
        "    'Descripción de la actividad autorizada mediante permisos, concesiones y autorizaciónes del transformador  (si aplica)': 'descripcion_act',\n",
        "    'Observaciones': 'observaciones',\n",
        "    'Responsable reporte':'responsable_reporte'\n",
        "})\n",
        "\n",
        "# Rellenar valores faltantes en las columnas 'telefono' y 'correo'\n",
        "# Las celdas vacías se rellenan con el valor 'No disponible' para evitar problemas con datos nulos\n",
        "df['telefono'] = df['telefono'].fillna('No disponible')\n",
        "df['correo'] = df['correo'].fillna('No disponible')\n",
        "\n",
        "# Convertir la columna 'capacidad' a un formato numérico, reemplazando cualquier valor no numérico por NaN\n",
        "# Esto permite realizar operaciones matemáticas en esta columna\n",
        "df['capacidad'] = pd.to_numeric(df['capacidad'], errors='coerce')\n",
        "\n",
        "# Eliminar las filas donde 'capacidad' es NaN (valores faltantes), ya que no son útiles para el análisis\n",
        "# Este paso asegura que solo trabajamos con datos válidos en la columna de capacidad\n",
        "df = df.dropna(subset=['capacidad'])\n",
        "\n",
        "# Calcular los cuantiles Q1 (primer cuartil) y Q3 (tercer cuartil) de la columna 'capacidad'\n",
        "# Estos valores se usarán para identificar y eliminar valores atípicos (outliers)\n",
        "Q1 = df['capacidad'].quantile(0.25)\n",
        "Q3 = df['capacidad'].quantile(0.75)\n",
        "IQR = Q3 - Q1  # IQR es el rango intercuartil, que mide la dispersión de los datos\n",
        "\n",
        "# Filtrar los datos eliminando los outliers, es decir, aquellos valores que están fuera de 1.5 veces el rango intercuartil (IQR)\n",
        "# Esto elimina valores extremadamente altos o bajos que podrían distorsionar el análisis\n",
        "df = df[(df['capacidad'] >= (Q1 - 1.5 * IQR)) & (df['capacidad'] <= (Q3 + 1.5 * IQR))]\n",
        "\n",
        "# Guardar el DataFrame preprocesado en un archivo CSV\n",
        "# El resultado final preprocesado se almacena para su uso en etapas posteriores del análisis\n",
        "df.to_csv('datos_preprocesados.csv', index=False)\n"
      ],
      "metadata": {
        "id": "eowsuWkEtHiA"
      },
      "execution_count": null,
      "outputs": []
    }
  ]
}